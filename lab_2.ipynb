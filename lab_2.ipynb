{
 "cells": [
  {
   "cell_type": "code",
   "execution_count": 43,
   "id": "81d8d80a",
   "metadata": {},
   "outputs": [
    {
     "name": "stdout",
     "output_type": "stream",
     "text": [
      "   Document ID                                            Content\n",
      "0            1  {\\n   \"title\": \"Introduction to Python\",\\n   \"...\n",
      "1            2  {\\n   \"title\": \"Data Analysis with Pandas\",\\n ...\n",
      "2            3  {\\n   \"title\": \"Web Development with Flask\",\\n...\n",
      "3            4  {\\n   \"title\": \"Machine Learning with Scikit-L...\n",
      "4            5  {\\n   \"title\": \"Data Visualization with Matplo...\n"
     ]
    }
   ],
   "source": [
    "# Import necessary libraries\n",
    "import pandas as pd\n",
    "import json\n",
    "\n",
    "# Load the CSV dataset\n",
    "df = pd.read_csv(\"semi_strut.csv\")\n",
    "\n",
    "# Display the first few rows of the dataset\n",
    "print(df.head())"
   ]
  },
  {
   "cell_type": "code",
   "execution_count": 38,
   "id": "a5ea1871",
   "metadata": {},
   "outputs": [],
   "source": [
    "# Tokenization function to extract terms from the JSON-like content\n",
    "# Remember to exact both \n",
    "# 1 .Extract terms from various fields (title, keywords, and content)\n",
    "# 2. Extract terms from sections' titles and content\n",
    "# 3. Tokenize the content and create a new column \"Terms\"\n",
    "# 4. Implement a preprocessing function that converts terms to lowercase, removes punctuation, and removes common stop words.\n",
    "    # Create another new column \"Terms_preprocessed\"\n",
    "# 5. you can display the DataFrame\n",
    "# def tokenize_content(content):"
   ]
  },
  {
   "cell_type": "code",
   "execution_count": 39,
   "id": "fa020fc5",
   "metadata": {},
   "outputs": [
    {
     "name": "stderr",
     "output_type": "stream",
     "text": [
      "[nltk_data] Downloading package stopwords to\n",
      "[nltk_data]     C:\\Users\\MSI\\AppData\\Roaming\\nltk_data...\n",
      "[nltk_data]   Package stopwords is already up-to-date!\n"
     ]
    },
    {
     "data": {
      "text/plain": [
       "True"
      ]
     },
     "execution_count": 39,
     "metadata": {},
     "output_type": "execute_result"
    }
   ],
   "source": [
    "import nltk\n",
    "nltk.download('stopwords')"
   ]
  },
  {
   "cell_type": "code",
   "execution_count": 55,
   "id": "27def6ed",
   "metadata": {},
   "outputs": [
    {
     "name": "stdout",
     "output_type": "stream",
     "text": [
      "Python programming beginner\n",
      "{'title': 'Introduction to Python', 'author': 'John Doe', 'date': '2023-01-15', 'keywords': ['Python', 'programming', 'beginner'], 'sections': [{'title': 'Getting Started', 'content': 'Python is a versatile programming language...'}, {'title': 'Basic Syntax', 'content': 'Python syntax is easy to understand...'}]}\n",
      "Python Pandas data analysis\n",
      "{'title': 'Data Analysis with Pandas', 'author': 'Jane Smith', 'date': '2023-02-20', 'keywords': ['Python', 'Pandas', 'data analysis'], 'sections': [{'title': 'Introduction to Pandas', 'content': 'Pandas is a popular library for data analysis...'}, {'title': 'DataFrames', 'content': 'DataFrames are a core data structure in Pandas...'}]}\n",
      "Python Flask web development\n",
      "{'title': 'Web Development with Flask', 'author': 'Mike Johnson', 'date': '2023-03-10', 'keywords': ['Python', 'Flask', 'web development'], 'sections': [{'title': 'Getting Started with Flask', 'content': 'Flask is a lightweight web framework for Python...'}, {'title': 'Routing', 'content': 'Routing in Flask defines URL patterns and views...'}]}\n",
      "Python machine learning Scikit-Learn\n",
      "{'title': 'Machine Learning with Scikit-Learn', 'author': 'Emily Davis', 'date': '2023-04-05', 'keywords': ['Python', 'machine learning', 'Scikit-Learn'], 'sections': [{'title': 'Introduction to Machine Learning', 'content': 'Machine learning is a subfield of artificial intelligence...'}, {'title': 'Supervised Learning', 'content': 'Supervised learning is a type of machine learning...'}]}\n",
      "Python Matplotlib data visualization\n",
      "{'title': 'Data Visualization with Matplotlib', 'author': 'Robert Clark', 'date': '2023-05-20', 'keywords': ['Python', 'Matplotlib', 'data visualization'], 'sections': [{'title': 'Introduction to Matplotlib', 'content': 'Matplotlib is a versatile library for data visualization...'}, {'title': 'Creating Plots', 'content': 'Plots can be created in Matplotlib using various functions...'}]}\n",
      "   Document ID                                              Terms\n",
      "0            1  [introduction, to, python, python, programming...\n",
      "1            2  [data, analysis, with, pandas, python, pandas,...\n",
      "2            3  [web, development, with, flask, python, flask,...\n",
      "3            4  [machine, learning, with, scikit, learn, pytho...\n",
      "4            5  [data, visualization, with, matplotlib, python...\n",
      "===================================================================================================================\n",
      "Document ID 1: ['introduction', 'python', 'python', 'programming', 'beginner', 'getting', 'started', 'python', 'versatile', 'programming', 'language', 'basic', 'syntax', 'python', 'syntax', 'easy', 'understand']\n",
      "Document ID 2: ['data', 'analysis', 'pandas', 'python', 'pandas', 'data', 'analysis', 'introduction', 'pandas', 'pandas', 'popular', 'library', 'data', 'analysis', 'dataframes', 'dataframes', 'core', 'data', 'structure', 'pandas']\n",
      "Document ID 3: ['web', 'development', 'flask', 'python', 'flask', 'web', 'development', 'getting', 'started', 'flask', 'flask', 'lightweight', 'web', 'framework', 'python', 'routing', 'routing', 'flask', 'defines', 'url', 'patterns', 'views']\n",
      "Document ID 4: ['machine', 'learning', 'scikit', 'learn', 'python', 'machine', 'learning', 'scikit', 'learn', 'introduction', 'machine', 'learning', 'machine', 'learning', 'subfield', 'artificial', 'intelligence', 'supervised', 'learning', 'supervised', 'learning', 'type', 'machine', 'learning']\n",
      "Document ID 5: ['data', 'visualization', 'matplotlib', 'python', 'matplotlib', 'data', 'visualization', 'introduction', 'matplotlib', 'matplotlib', 'versatile', 'library', 'data', 'visualization', 'creating', 'plots', 'plots', 'created', 'matplotlib', 'using', 'various', 'functions']\n"
     ]
    }
   ],
   "source": [
    "import pandas as pd\n",
    "import json\n",
    "import re\n",
    "from nltk.corpus import stopwords\n",
    "from nltk.tokenize import word_tokenize\n",
    "\n",
    "# Load the CSV dataset\n",
    "df = pd.read_csv(\"semi_strut.csv\")\n",
    "\n",
    "# Function to extract terms from JSON-like content\n",
    "def extract_terms_from_json(json_content):\n",
    "    try:\n",
    "        data = json.loads(json_content)\n",
    "        terms = []\n",
    "\n",
    "        # Extract terms from various fields\n",
    "        for field in ['title', 'keywords', 'content']:\n",
    "            if field in data:\n",
    "                if isinstance(data[field], str):\n",
    "                    # If the field is a string, tokenize it and add terms to the list\n",
    "                    terms.extend(re.findall(r'\\w+', data[field].lower()))\n",
    "                elif isinstance(data[field], list):\n",
    "                    # If the field is a list, join its elements into a string and tokenize\n",
    "                    field_text = ' '.join(data[field])\n",
    "                    terms.extend(re.findall(r'\\w+', field_text.lower()))\n",
    "        print (field_text)\n",
    "        print (data)\n",
    "        # Extract terms from sections' titles and content\n",
    "        if 'sections' in data and isinstance(data['sections'], list):\n",
    "            for section in data['sections']:\n",
    "                for field in ['title', 'content']:\n",
    "                    if field in section:\n",
    "                        terms.extend(re.findall(r'\\w+', section[field].lower()))\n",
    "        \n",
    "        return terms\n",
    "    except json.JSONDecodeError as e:\n",
    "        print(f\"JSON parsing error: {e}\")\n",
    "        return []\n",
    "\n",
    "# Function to preprocess terms\n",
    "def preprocess_terms(terms):\n",
    "    stop_words = set(stopwords.words('english'))\n",
    "    # Remove stopwords and apply lowercase\n",
    "    filtered_terms = [term for term in terms if term.lower() not in stop_words]\n",
    "    return filtered_terms\n",
    "\n",
    "# Apply the tokenization and preprocessing functions to the DataFrame\n",
    "df['Terms'] = df['Content'].apply(extract_terms_from_json)\n",
    "df['Terms_preprocessed'] = df['Terms'].apply(preprocess_terms)\n",
    "\n",
    "# Display the DataFrame with extracted and preprocessed terms\n",
    "print(df[['Document ID', 'Terms']])\n",
    "\n",
    "print ('===================================================================================================================')\n",
    "# Print the tokenized terms for each document\n",
    "for index, row in df.iterrows():\n",
    "    document_id = row['Document ID']\n",
    "    terms = row['Terms_preprocessed']\n",
    "    print(f\"Document ID {document_id}: {terms}\")\n"
   ]
  },
  {
   "cell_type": "code",
   "execution_count": 47,
   "id": "131fdcaf",
   "metadata": {},
   "outputs": [
    {
     "name": "stdout",
     "output_type": "stream",
     "text": [
      "introduction: [1, 2, 4, 5]\n",
      "python: [1, 2, 3, 4, 5]\n",
      "programming: [1]\n",
      "beginner: [1]\n",
      "getting: [1, 3]\n",
      "started: [1, 3]\n",
      "versatile: [1, 5]\n",
      "language: [1]\n",
      "basic: [1]\n",
      "syntax: [1]\n",
      "easy: [1]\n",
      "understand: [1]\n",
      "data: [2, 5]\n",
      "analysis: [2]\n",
      "pandas: [2]\n",
      "popular: [2]\n",
      "library: [2, 5]\n",
      "dataframes: [2]\n",
      "core: [2]\n",
      "structure: [2]\n",
      "web: [3]\n",
      "development: [3]\n",
      "flask: [3]\n",
      "lightweight: [3]\n",
      "framework: [3]\n",
      "routing: [3]\n",
      "defines: [3]\n",
      "url: [3]\n",
      "patterns: [3]\n",
      "views: [3]\n",
      "machine: [4]\n",
      "learning: [4]\n",
      "scikit: [4]\n",
      "learn: [4]\n",
      "subfield: [4]\n",
      "artificial: [4]\n",
      "intelligence: [4]\n",
      "supervised: [4]\n",
      "type: [4]\n",
      "visualization: [5]\n",
      "matplotlib: [5]\n",
      "creating: [5]\n",
      "plots: [5]\n",
      "created: [5]\n",
      "using: [5]\n",
      "various: [5]\n",
      "functions: [5]\n"
     ]
    }
   ],
   "source": [
    "# Initialize an empty inverted index dictionary\n",
    "# Build the inverted index\n",
    "# Initialize an empty inverted index dictionary\n",
    "inverted_index = {}\n",
    "\n",
    "# Iterate through the DataFrame\n",
    "for index, row in df.iterrows():\n",
    "    document_id = row['Document ID']\n",
    "    terms = row['Terms_preprocessed']\n",
    "    \n",
    "    # Iterate through the terms in the document\n",
    "    for term in terms:\n",
    "        if term in inverted_index:\n",
    "            # If the term already exists in the inverted index, append the document ID\n",
    "            if document_id not in inverted_index[term]:\n",
    "                inverted_index[term].append(document_id)\n",
    "        else:\n",
    "            # If the term doesn't exist in the inverted index, create a new entry\n",
    "            inverted_index[term] = [document_id]\n",
    "\n",
    "# Print the inverted index\n",
    "for term, document_ids in inverted_index.items():\n",
    "    print(f\"{term}: {document_ids}\")\n"
   ]
  },
  {
   "cell_type": "code",
   "execution_count": 7,
   "id": "4824b570",
   "metadata": {},
   "outputs": [],
   "source": [
    "# Initialize an empty inverted index dictionary the extracted terms "
   ]
  },
  {
   "cell_type": "code",
   "execution_count": 8,
   "id": "1b929397",
   "metadata": {},
   "outputs": [],
   "source": [
    "# perform boolean operations on postings lists for Boolean search operations\n",
    "# 1. \"Python\" OR \"Pandas\"\n",
    "# 2. \"Python\" AND \"data\""
   ]
  },
  {
   "cell_type": "code",
   "execution_count": null,
   "id": "80680485",
   "metadata": {},
   "outputs": [],
   "source": []
  }
 ],
 "metadata": {
  "kernelspec": {
   "display_name": "Python 3 (ipykernel)",
   "language": "python",
   "name": "python3"
  },
  "language_info": {
   "codemirror_mode": {
    "name": "ipython",
    "version": 3
   },
   "file_extension": ".py",
   "mimetype": "text/x-python",
   "name": "python",
   "nbconvert_exporter": "python",
   "pygments_lexer": "ipython3",
   "version": "3.11.4"
  }
 },
 "nbformat": 4,
 "nbformat_minor": 5
}
